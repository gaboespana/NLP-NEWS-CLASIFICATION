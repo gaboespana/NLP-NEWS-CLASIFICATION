{
 "cells": [
  {
   "cell_type": "markdown",
   "metadata": {},
   "source": [
    "## PEC Procesamiento del Lenguaje natural y Minería de Texto"
   ]
  },
  {
   "cell_type": "markdown",
   "metadata": {},
   "source": [
    "Profesor: Manuel Lucania\n",
    "\n",
    "Alumno: Gabriel Ramón España Zapata\n",
    "\n",
    "DNI:04340129Y"
   ]
  },
  {
   "cell_type": "markdown",
   "metadata": {},
   "source": [
    "El objetivo de esta PEC es poner en práctica los conocimientos adquiridos en el módulo utilizando como tema **automatización de detección de noticias falsas**. \n",
    "\n",
    "Este proceso será llevado a cabo a traves de la implementación de algoritmos de NLP y de Clasificación"
   ]
  },
  {
   "cell_type": "markdown",
   "metadata": {},
   "source": [
    "Antes que nada, importamos las librerías que se usaron a lo largo de la PEC"
   ]
  },
  {
   "cell_type": "code",
   "execution_count": 1,
   "metadata": {},
   "outputs": [],
   "source": [
    "import warnings\n",
    "warnings.filterwarnings('ignore')\n",
    "\n",
    "# Librerías básicas\n",
    "import pandas as pd\n",
    "import numpy as np\n",
    "from itertools import islice\n",
    "import operator\n",
    "import random\n",
    "\n",
    "# Visualización de datos:\n",
    "import matplotlib.pyplot as plt\n",
    "import seaborn as sns\n",
    "%config InlineBackend.figure_format = 'retina'\n",
    "%matplotlib inline\n",
    "\n",
    "# Librerías para NLP:\n",
    "from sklearn.feature_extraction import _stop_words\n",
    "import gensim\n",
    "from gensim.models import Doc2Vec,Phrases\n",
    "from gensim.models.doc2vec import TaggedDocument\n",
    "import gensim.downloader as gensim_api\n",
    "import nltk\n",
    "from tqdm import tqdm\n",
    "from sklearn import utils\n",
    "\n",
    "# Machine Learning:\n",
    "from sklearn.linear_model import LogisticRegression\n",
    "from sklearn.model_selection import train_test_split, GridSearchCV\n",
    "from sklearn.tree import DecisionTreeClassifier\n",
    "from sklearn.ensemble import RandomForestClassifier\n",
    "from sklearn.neighbors import KNeighborsClassifier, RadiusNeighborsClassifier\n",
    "from sklearn.svm import SVC\n",
    "from sklearn import metrics\n",
    "from sklearn.metrics import accuracy_score, recall_score, precision_score, confusion_matrix"
   ]
  },
  {
   "cell_type": "markdown",
   "metadata": {},
   "source": [
    "Lo siguiente será leer los datos para empezar a tratarlos:\n",
    "Usaremos los Dataframes de Pandas a lo largo de toda la PEC en muchos casos:"
   ]
  },
  {
   "cell_type": "markdown",
   "metadata": {},
   "source": [
    "https://towardsdatascience.com/implementing-multi-class-text-classification-with-doc2vec-df7c3812824d\n",
    "https://towardsdatascience.com/text-classification-with-nlp-tf-idf-vs-word2vec-vs-bert-41ff868d1794\n",
    "https://towardsdatascience.com/text-analysis-feature-engineering-with-nlp-502d6ea9225d"
   ]
  },
  {
   "cell_type": "markdown",
   "metadata": {},
   "source": [
    "# Preprocesamiento de los datasets importados:"
   ]
  },
  {
   "cell_type": "markdown",
   "metadata": {},
   "source": [
    "Se investigó en Kaggle y se encontraron dos datasets con noticias verdaderas y falsas por separado. Esto nos servirá para etiquetarlas como **\"true\"** a las verdaderas y **\"fake\"** para las falsas.\n",
    "\n",
    "Leeremos los mismos con los **DataFrame de Pandas**"
   ]
  },
  {
   "cell_type": "code",
   "execution_count": 2,
   "metadata": {},
   "outputs": [],
   "source": [
    "df_true = pd.read_csv('./True.csv')\n",
    "df_true['flag']='true'\n",
    "df_fake = pd.read_csv('./Fake.csv')\n",
    "df_fake['flag']='fake'"
   ]
  },
  {
   "cell_type": "markdown",
   "metadata": {},
   "source": [
    "Mostramos de cada uno un extracto y su composición: (a lo largo de la pec se verá que usamos el random_state=42) buscando que los resultados siempre sean consistentes"
   ]
  },
  {
   "cell_type": "code",
   "execution_count": 3,
   "metadata": {},
   "outputs": [
    {
     "data": {
      "text/html": [
       "<div>\n",
       "<style scoped>\n",
       "    .dataframe tbody tr th:only-of-type {\n",
       "        vertical-align: middle;\n",
       "    }\n",
       "\n",
       "    .dataframe tbody tr th {\n",
       "        vertical-align: top;\n",
       "    }\n",
       "\n",
       "    .dataframe thead th {\n",
       "        text-align: right;\n",
       "    }\n",
       "</style>\n",
       "<table border=\"1\" class=\"dataframe\">\n",
       "  <thead>\n",
       "    <tr style=\"text-align: right;\">\n",
       "      <th></th>\n",
       "      <th>title</th>\n",
       "      <th>text</th>\n",
       "      <th>subject</th>\n",
       "      <th>date</th>\n",
       "      <th>flag</th>\n",
       "    </tr>\n",
       "  </thead>\n",
       "  <tbody>\n",
       "    <tr>\n",
       "      <th>18137</th>\n",
       "      <td>Europe rights watchdog says Turkey's emergency...</td>\n",
       "      <td>BRUSSELS (Reuters) - A leading European rights...</td>\n",
       "      <td>worldnews</td>\n",
       "      <td>October 6, 2017</td>\n",
       "      <td>true</td>\n",
       "    </tr>\n",
       "    <tr>\n",
       "      <th>3277</th>\n",
       "      <td>Exclusive: Trump targets illegal immigrants wh...</td>\n",
       "      <td>(Reuters) - In September 2014, Gilberto Velasq...</td>\n",
       "      <td>politicsNews</td>\n",
       "      <td>June 9, 2017</td>\n",
       "      <td>true</td>\n",
       "    </tr>\n",
       "    <tr>\n",
       "      <th>2876</th>\n",
       "      <td>At G20 summit, Trump pledges $639 million in a...</td>\n",
       "      <td>HAMBURG (Reuters) - U.S. President Donald Trum...</td>\n",
       "      <td>politicsNews</td>\n",
       "      <td>July 8, 2017</td>\n",
       "      <td>true</td>\n",
       "    </tr>\n",
       "    <tr>\n",
       "      <th>5160</th>\n",
       "      <td>Ex-Christie associates lose bid for new trial ...</td>\n",
       "      <td>NEW YORK (Reuters) - A federal judge rejected ...</td>\n",
       "      <td>politicsNews</td>\n",
       "      <td>March 2, 2017</td>\n",
       "      <td>true</td>\n",
       "    </tr>\n",
       "    <tr>\n",
       "      <th>10843</th>\n",
       "      <td>Young blacks more open to Bernie Sanders' Whit...</td>\n",
       "      <td>ORANGEBURG, S.C. (Reuters) - If Democratic hop...</td>\n",
       "      <td>politicsNews</td>\n",
       "      <td>February 12, 2016</td>\n",
       "      <td>true</td>\n",
       "    </tr>\n",
       "    <tr>\n",
       "      <th>2725</th>\n",
       "      <td>New York attorney general says will sue over O...</td>\n",
       "      <td>(Reuters) - New York state Attorney General Er...</td>\n",
       "      <td>politicsNews</td>\n",
       "      <td>July 17, 2017</td>\n",
       "      <td>true</td>\n",
       "    </tr>\n",
       "    <tr>\n",
       "      <th>12594</th>\n",
       "      <td>Indonesian parliament speaker quits amid graft...</td>\n",
       "      <td>JAKARTA (Reuters) - The speaker of Indonesia s...</td>\n",
       "      <td>worldnews</td>\n",
       "      <td>December 11, 2017</td>\n",
       "      <td>true</td>\n",
       "    </tr>\n",
       "    <tr>\n",
       "      <th>18226</th>\n",
       "      <td>Spanish lender Sabadell to transfer legal base...</td>\n",
       "      <td>MADRID (Reuters) - Spanish lender Sabadell dec...</td>\n",
       "      <td>worldnews</td>\n",
       "      <td>October 5, 2017</td>\n",
       "      <td>true</td>\n",
       "    </tr>\n",
       "    <tr>\n",
       "      <th>4707</th>\n",
       "      <td>House speaker tells Trump healthcare bill lack...</td>\n",
       "      <td>WASHINGTON (Reuters) - U.S. House Speaker Paul...</td>\n",
       "      <td>politicsNews</td>\n",
       "      <td>March 24, 2017</td>\n",
       "      <td>true</td>\n",
       "    </tr>\n",
       "    <tr>\n",
       "      <th>15464</th>\n",
       "      <td>Britain says expects most EU citizens can stay...</td>\n",
       "      <td>LONDON (Reuters) - The British government said...</td>\n",
       "      <td>worldnews</td>\n",
       "      <td>November 7, 2017</td>\n",
       "      <td>true</td>\n",
       "    </tr>\n",
       "  </tbody>\n",
       "</table>\n",
       "</div>"
      ],
      "text/plain": [
       "                                                   title  \\\n",
       "18137  Europe rights watchdog says Turkey's emergency...   \n",
       "3277   Exclusive: Trump targets illegal immigrants wh...   \n",
       "2876   At G20 summit, Trump pledges $639 million in a...   \n",
       "5160   Ex-Christie associates lose bid for new trial ...   \n",
       "10843  Young blacks more open to Bernie Sanders' Whit...   \n",
       "2725   New York attorney general says will sue over O...   \n",
       "12594  Indonesian parliament speaker quits amid graft...   \n",
       "18226  Spanish lender Sabadell to transfer legal base...   \n",
       "4707   House speaker tells Trump healthcare bill lack...   \n",
       "15464  Britain says expects most EU citizens can stay...   \n",
       "\n",
       "                                                    text       subject  \\\n",
       "18137  BRUSSELS (Reuters) - A leading European rights...     worldnews   \n",
       "3277   (Reuters) - In September 2014, Gilberto Velasq...  politicsNews   \n",
       "2876   HAMBURG (Reuters) - U.S. President Donald Trum...  politicsNews   \n",
       "5160   NEW YORK (Reuters) - A federal judge rejected ...  politicsNews   \n",
       "10843  ORANGEBURG, S.C. (Reuters) - If Democratic hop...  politicsNews   \n",
       "2725   (Reuters) - New York state Attorney General Er...  politicsNews   \n",
       "12594  JAKARTA (Reuters) - The speaker of Indonesia s...     worldnews   \n",
       "18226  MADRID (Reuters) - Spanish lender Sabadell dec...     worldnews   \n",
       "4707   WASHINGTON (Reuters) - U.S. House Speaker Paul...  politicsNews   \n",
       "15464  LONDON (Reuters) - The British government said...     worldnews   \n",
       "\n",
       "                     date  flag  \n",
       "18137    October 6, 2017   true  \n",
       "3277        June 9, 2017   true  \n",
       "2876        July 8, 2017   true  \n",
       "5160       March 2, 2017   true  \n",
       "10843  February 12, 2016   true  \n",
       "2725       July 17, 2017   true  \n",
       "12594  December 11, 2017   true  \n",
       "18226    October 5, 2017   true  \n",
       "4707      March 24, 2017   true  \n",
       "15464   November 7, 2017   true  "
      ]
     },
     "execution_count": 3,
     "metadata": {},
     "output_type": "execute_result"
    }
   ],
   "source": [
    "df_true.sample(10,random_state=42)"
   ]
  },
  {
   "cell_type": "code",
   "execution_count": 4,
   "metadata": {},
   "outputs": [
    {
     "name": "stdout",
     "output_type": "stream",
     "text": [
      "<class 'pandas.core.frame.DataFrame'>\n",
      "RangeIndex: 21417 entries, 0 to 21416\n",
      "Data columns (total 5 columns):\n",
      " #   Column   Non-Null Count  Dtype \n",
      "---  ------   --------------  ----- \n",
      " 0   title    21417 non-null  object\n",
      " 1   text     21417 non-null  object\n",
      " 2   subject  21417 non-null  object\n",
      " 3   date     21417 non-null  object\n",
      " 4   flag     21417 non-null  object\n",
      "dtypes: object(5)\n",
      "memory usage: 836.7+ KB\n"
     ]
    }
   ],
   "source": [
    "df_true.info()"
   ]
  },
  {
   "cell_type": "code",
   "execution_count": 5,
   "metadata": {},
   "outputs": [
    {
     "data": {
      "text/html": [
       "<div>\n",
       "<style scoped>\n",
       "    .dataframe tbody tr th:only-of-type {\n",
       "        vertical-align: middle;\n",
       "    }\n",
       "\n",
       "    .dataframe tbody tr th {\n",
       "        vertical-align: top;\n",
       "    }\n",
       "\n",
       "    .dataframe thead th {\n",
       "        text-align: right;\n",
       "    }\n",
       "</style>\n",
       "<table border=\"1\" class=\"dataframe\">\n",
       "  <thead>\n",
       "    <tr style=\"text-align: right;\">\n",
       "      <th></th>\n",
       "      <th>title</th>\n",
       "      <th>text</th>\n",
       "      <th>subject</th>\n",
       "      <th>date</th>\n",
       "      <th>flag</th>\n",
       "    </tr>\n",
       "  </thead>\n",
       "  <tbody>\n",
       "    <tr>\n",
       "      <th>13474</th>\n",
       "      <td>ABOUT HILLARY’S COUGH: We Discovered The Secre...</td>\n",
       "      <td></td>\n",
       "      <td>politics</td>\n",
       "      <td>Jul 20, 2016</td>\n",
       "      <td>fake</td>\n",
       "    </tr>\n",
       "    <tr>\n",
       "      <th>11994</th>\n",
       "      <td>BREAKING: OBAMACARE REPEAL Clears First Hurdle...</td>\n",
       "      <td>The Senate voted 51-48 this afternoon to proce...</td>\n",
       "      <td>politics</td>\n",
       "      <td>Jan 4, 2017</td>\n",
       "      <td>fake</td>\n",
       "    </tr>\n",
       "    <tr>\n",
       "      <th>19179</th>\n",
       "      <td>‘SLEEPY’ JUSTICE GINSBURG: Excites Crowd By Sa...</td>\n",
       "      <td>So much for the SCOTUS not being political Che...</td>\n",
       "      <td>left-news</td>\n",
       "      <td>Feb 7, 2017</td>\n",
       "      <td>fake</td>\n",
       "    </tr>\n",
       "    <tr>\n",
       "      <th>501</th>\n",
       "      <td>WATCH: Kellyanne Conway Very Upset Hillary Cl...</td>\n",
       "      <td>White House counselor Kellyanne Conway crawled...</td>\n",
       "      <td>News</td>\n",
       "      <td>August 24, 2017</td>\n",
       "      <td>fake</td>\n",
       "    </tr>\n",
       "    <tr>\n",
       "      <th>3492</th>\n",
       "      <td>GOP Gives Trump The Middle Finger, Prepares T...</td>\n",
       "      <td>Donald Trump may have decided that Russia is g...</td>\n",
       "      <td>News</td>\n",
       "      <td>December 9, 2016</td>\n",
       "      <td>fake</td>\n",
       "    </tr>\n",
       "    <tr>\n",
       "      <th>1510</th>\n",
       "      <td>Trump Displays Incredible Ignorance Yet Again...</td>\n",
       "      <td>Have you ever wondered where a phrase started?...</td>\n",
       "      <td>News</td>\n",
       "      <td>May 11, 2017</td>\n",
       "      <td>fake</td>\n",
       "    </tr>\n",
       "    <tr>\n",
       "      <th>3296</th>\n",
       "      <td>Anthony Bourdain Reveals The ‘ONE Good Thing’...</td>\n",
       "      <td>While Donald Trump is currently freaking out b...</td>\n",
       "      <td>News</td>\n",
       "      <td>December 22, 2016</td>\n",
       "      <td>fake</td>\n",
       "    </tr>\n",
       "    <tr>\n",
       "      <th>17798</th>\n",
       "      <td>TRUMP HITS BACK After Cowgirl Congresswoman Tr...</td>\n",
       "      <td>The left is going ballistic over supposed word...</td>\n",
       "      <td>left-news</td>\n",
       "      <td>Oct 18, 2017</td>\n",
       "      <td>fake</td>\n",
       "    </tr>\n",
       "    <tr>\n",
       "      <th>9504</th>\n",
       "      <td>MEDIA DOWNPLAYS Attack By Unhinged Neighbor On...</td>\n",
       "      <td>5 broken ribs with trouble breathing, lung con...</td>\n",
       "      <td>politics</td>\n",
       "      <td>Nov 6, 2017</td>\n",
       "      <td>fake</td>\n",
       "    </tr>\n",
       "    <tr>\n",
       "      <th>6087</th>\n",
       "      <td>Why This Attorney General Is Going After Trum...</td>\n",
       "      <td>New York Attorney General Eric Schneiderman is...</td>\n",
       "      <td>News</td>\n",
       "      <td>May 31, 2016</td>\n",
       "      <td>fake</td>\n",
       "    </tr>\n",
       "  </tbody>\n",
       "</table>\n",
       "</div>"
      ],
      "text/plain": [
       "                                                   title  \\\n",
       "13474  ABOUT HILLARY’S COUGH: We Discovered The Secre...   \n",
       "11994  BREAKING: OBAMACARE REPEAL Clears First Hurdle...   \n",
       "19179  ‘SLEEPY’ JUSTICE GINSBURG: Excites Crowd By Sa...   \n",
       "501     WATCH: Kellyanne Conway Very Upset Hillary Cl...   \n",
       "3492    GOP Gives Trump The Middle Finger, Prepares T...   \n",
       "1510    Trump Displays Incredible Ignorance Yet Again...   \n",
       "3296    Anthony Bourdain Reveals The ‘ONE Good Thing’...   \n",
       "17798  TRUMP HITS BACK After Cowgirl Congresswoman Tr...   \n",
       "9504   MEDIA DOWNPLAYS Attack By Unhinged Neighbor On...   \n",
       "6087    Why This Attorney General Is Going After Trum...   \n",
       "\n",
       "                                                    text    subject  \\\n",
       "13474                                                      politics   \n",
       "11994  The Senate voted 51-48 this afternoon to proce...   politics   \n",
       "19179  So much for the SCOTUS not being political Che...  left-news   \n",
       "501    White House counselor Kellyanne Conway crawled...       News   \n",
       "3492   Donald Trump may have decided that Russia is g...       News   \n",
       "1510   Have you ever wondered where a phrase started?...       News   \n",
       "3296   While Donald Trump is currently freaking out b...       News   \n",
       "17798  The left is going ballistic over supposed word...  left-news   \n",
       "9504   5 broken ribs with trouble breathing, lung con...   politics   \n",
       "6087   New York Attorney General Eric Schneiderman is...       News   \n",
       "\n",
       "                    date  flag  \n",
       "13474       Jul 20, 2016  fake  \n",
       "11994        Jan 4, 2017  fake  \n",
       "19179        Feb 7, 2017  fake  \n",
       "501      August 24, 2017  fake  \n",
       "3492    December 9, 2016  fake  \n",
       "1510        May 11, 2017  fake  \n",
       "3296   December 22, 2016  fake  \n",
       "17798       Oct 18, 2017  fake  \n",
       "9504         Nov 6, 2017  fake  \n",
       "6087        May 31, 2016  fake  "
      ]
     },
     "execution_count": 5,
     "metadata": {},
     "output_type": "execute_result"
    }
   ],
   "source": [
    "df_fake.sample(10,random_state=42)"
   ]
  },
  {
   "cell_type": "code",
   "execution_count": 6,
   "metadata": {},
   "outputs": [
    {
     "name": "stdout",
     "output_type": "stream",
     "text": [
      "<class 'pandas.core.frame.DataFrame'>\n",
      "RangeIndex: 23481 entries, 0 to 23480\n",
      "Data columns (total 5 columns):\n",
      " #   Column   Non-Null Count  Dtype \n",
      "---  ------   --------------  ----- \n",
      " 0   title    23481 non-null  object\n",
      " 1   text     23481 non-null  object\n",
      " 2   subject  23481 non-null  object\n",
      " 3   date     23481 non-null  object\n",
      " 4   flag     23481 non-null  object\n",
      "dtypes: object(5)\n",
      "memory usage: 917.4+ KB\n"
     ]
    }
   ],
   "source": [
    "df_fake.info()"
   ]
  },
  {
   "cell_type": "markdown",
   "metadata": {},
   "source": [
    "Para iniciar el procesamiento de los dataframes queremos aseguramos de limpiar las filas que tienen valores NA y aquellas que tienen duplicados en los títulos y en los textos."
   ]
  },
  {
   "cell_type": "code",
   "execution_count": 7,
   "metadata": {},
   "outputs": [],
   "source": [
    "def limpieza_df(df):\n",
    "    \n",
    "    # Eliminamos los registros con valores NA\n",
    "    df.dropna(inplace=True)\n",
    "    \n",
    "    # Eliminamos los registros con títulos duplicados\n",
    "    df.drop_duplicates(subset=['title'], inplace=True)\n",
    "\n",
    "    # Eliminamos los registros con textos duplicados\n",
    "    df.drop_duplicates(subset=['text'], inplace=True)\n",
    "    \n",
    "    print(\"New shape:\", df.shape)\n",
    "    return df.sample(10,random_state=42)"
   ]
  },
  {
   "cell_type": "code",
   "execution_count": 8,
   "metadata": {},
   "outputs": [
    {
     "name": "stdout",
     "output_type": "stream",
     "text": [
      "New shape: (20821, 5)\n"
     ]
    },
    {
     "data": {
      "text/html": [
       "<div>\n",
       "<style scoped>\n",
       "    .dataframe tbody tr th:only-of-type {\n",
       "        vertical-align: middle;\n",
       "    }\n",
       "\n",
       "    .dataframe tbody tr th {\n",
       "        vertical-align: top;\n",
       "    }\n",
       "\n",
       "    .dataframe thead th {\n",
       "        text-align: right;\n",
       "    }\n",
       "</style>\n",
       "<table border=\"1\" class=\"dataframe\">\n",
       "  <thead>\n",
       "    <tr style=\"text-align: right;\">\n",
       "      <th></th>\n",
       "      <th>title</th>\n",
       "      <th>text</th>\n",
       "      <th>subject</th>\n",
       "      <th>date</th>\n",
       "      <th>flag</th>\n",
       "    </tr>\n",
       "  </thead>\n",
       "  <tbody>\n",
       "    <tr>\n",
       "      <th>2517</th>\n",
       "      <td>Trump transgender decision 'shocking and ignor...</td>\n",
       "      <td>WASHINGTON (Reuters) - U.S. President Donald T...</td>\n",
       "      <td>politicsNews</td>\n",
       "      <td>July 26, 2017</td>\n",
       "      <td>true</td>\n",
       "    </tr>\n",
       "    <tr>\n",
       "      <th>8726</th>\n",
       "      <td>Art of the spin: Trump bankers question his po...</td>\n",
       "      <td>NEW YORK (Reuters) - Donald Trump, who often s...</td>\n",
       "      <td>politicsNews</td>\n",
       "      <td>July 17, 2016</td>\n",
       "      <td>true</td>\n",
       "    </tr>\n",
       "    <tr>\n",
       "      <th>16510</th>\n",
       "      <td>Italian government wins all five confidence vo...</td>\n",
       "      <td>ROME (Reuters) - The Italian government won al...</td>\n",
       "      <td>worldnews</td>\n",
       "      <td>October 25, 2017</td>\n",
       "      <td>true</td>\n",
       "    </tr>\n",
       "    <tr>\n",
       "      <th>21330</th>\n",
       "      <td>Suicide attack on Kabul Shi'ite mosque kills a...</td>\n",
       "      <td>KABUL (Reuters) - A suicide bomber blew himsel...</td>\n",
       "      <td>worldnews</td>\n",
       "      <td>August 25, 2017</td>\n",
       "      <td>true</td>\n",
       "    </tr>\n",
       "    <tr>\n",
       "      <th>9441</th>\n",
       "      <td>Obama confident Pacific trade deal will be app...</td>\n",
       "      <td>HANOI (Reuters) - U.S. President Barack Obama ...</td>\n",
       "      <td>politicsNews</td>\n",
       "      <td>May 23, 2016</td>\n",
       "      <td>true</td>\n",
       "    </tr>\n",
       "    <tr>\n",
       "      <th>19009</th>\n",
       "      <td>Kremlin, after Kurdish vote, says supports int...</td>\n",
       "      <td>MOSCOW (Reuters) - The Kremlin on Tuesday sign...</td>\n",
       "      <td>worldnews</td>\n",
       "      <td>September 26, 2017</td>\n",
       "      <td>true</td>\n",
       "    </tr>\n",
       "    <tr>\n",
       "      <th>19110</th>\n",
       "      <td>Brexit can be 'comfortably' negotiated in two ...</td>\n",
       "      <td>PRAGUE (Reuters) - Britain can negotiate its e...</td>\n",
       "      <td>worldnews</td>\n",
       "      <td>September 25, 2017</td>\n",
       "      <td>true</td>\n",
       "    </tr>\n",
       "    <tr>\n",
       "      <th>5847</th>\n",
       "      <td>Travel ban protest delays Senate panel vote on...</td>\n",
       "      <td>WASHINGTON (Reuters) - U.S. Senate Democrats d...</td>\n",
       "      <td>politicsNews</td>\n",
       "      <td>January 30, 2017</td>\n",
       "      <td>true</td>\n",
       "    </tr>\n",
       "    <tr>\n",
       "      <th>14576</th>\n",
       "      <td>Trump discussed free trade pact with Japan's A...</td>\n",
       "      <td>TOKYO (Reuters) - President Donald Trump discu...</td>\n",
       "      <td>worldnews</td>\n",
       "      <td>November 17, 2017</td>\n",
       "      <td>true</td>\n",
       "    </tr>\n",
       "    <tr>\n",
       "      <th>7870</th>\n",
       "      <td>Locker room talk? Key women voters call foul o...</td>\n",
       "      <td>WASHINGTON/NEW YORK (Reuters) - U.S. Republica...</td>\n",
       "      <td>politicsNews</td>\n",
       "      <td>October 11, 2016</td>\n",
       "      <td>true</td>\n",
       "    </tr>\n",
       "  </tbody>\n",
       "</table>\n",
       "</div>"
      ],
      "text/plain": [
       "                                                   title  \\\n",
       "2517   Trump transgender decision 'shocking and ignor...   \n",
       "8726   Art of the spin: Trump bankers question his po...   \n",
       "16510  Italian government wins all five confidence vo...   \n",
       "21330  Suicide attack on Kabul Shi'ite mosque kills a...   \n",
       "9441   Obama confident Pacific trade deal will be app...   \n",
       "19009  Kremlin, after Kurdish vote, says supports int...   \n",
       "19110  Brexit can be 'comfortably' negotiated in two ...   \n",
       "5847   Travel ban protest delays Senate panel vote on...   \n",
       "14576  Trump discussed free trade pact with Japan's A...   \n",
       "7870   Locker room talk? Key women voters call foul o...   \n",
       "\n",
       "                                                    text       subject  \\\n",
       "2517   WASHINGTON (Reuters) - U.S. President Donald T...  politicsNews   \n",
       "8726   NEW YORK (Reuters) - Donald Trump, who often s...  politicsNews   \n",
       "16510  ROME (Reuters) - The Italian government won al...     worldnews   \n",
       "21330  KABUL (Reuters) - A suicide bomber blew himsel...     worldnews   \n",
       "9441   HANOI (Reuters) - U.S. President Barack Obama ...  politicsNews   \n",
       "19009  MOSCOW (Reuters) - The Kremlin on Tuesday sign...     worldnews   \n",
       "19110  PRAGUE (Reuters) - Britain can negotiate its e...     worldnews   \n",
       "5847   WASHINGTON (Reuters) - U.S. Senate Democrats d...  politicsNews   \n",
       "14576  TOKYO (Reuters) - President Donald Trump discu...     worldnews   \n",
       "7870   WASHINGTON/NEW YORK (Reuters) - U.S. Republica...  politicsNews   \n",
       "\n",
       "                      date  flag  \n",
       "2517        July 26, 2017   true  \n",
       "8726        July 17, 2016   true  \n",
       "16510    October 25, 2017   true  \n",
       "21330     August 25, 2017   true  \n",
       "9441         May 23, 2016   true  \n",
       "19009  September 26, 2017   true  \n",
       "19110  September 25, 2017   true  \n",
       "5847     January 30, 2017   true  \n",
       "14576   November 17, 2017   true  \n",
       "7870     October 11, 2016   true  "
      ]
     },
     "execution_count": 8,
     "metadata": {},
     "output_type": "execute_result"
    }
   ],
   "source": [
    "limpieza_df(df_true)"
   ]
  },
  {
   "cell_type": "code",
   "execution_count": 9,
   "metadata": {},
   "outputs": [
    {
     "name": "stdout",
     "output_type": "stream",
     "text": [
      "New shape: (17450, 5)\n"
     ]
    },
    {
     "data": {
      "text/html": [
       "<div>\n",
       "<style scoped>\n",
       "    .dataframe tbody tr th:only-of-type {\n",
       "        vertical-align: middle;\n",
       "    }\n",
       "\n",
       "    .dataframe tbody tr th {\n",
       "        vertical-align: top;\n",
       "    }\n",
       "\n",
       "    .dataframe thead th {\n",
       "        text-align: right;\n",
       "    }\n",
       "</style>\n",
       "<table border=\"1\" class=\"dataframe\">\n",
       "  <thead>\n",
       "    <tr style=\"text-align: right;\">\n",
       "      <th></th>\n",
       "      <th>title</th>\n",
       "      <th>text</th>\n",
       "      <th>subject</th>\n",
       "      <th>date</th>\n",
       "      <th>flag</th>\n",
       "    </tr>\n",
       "  </thead>\n",
       "  <tbody>\n",
       "    <tr>\n",
       "      <th>15543</th>\n",
       "      <td>GOP PRESIDENTIAL CANDIDATE MARCO RUBIO CASTS D...</td>\n",
       "      <td>One more Republican doing his part to aid Obam...</td>\n",
       "      <td>politics</td>\n",
       "      <td>Jun 23, 2015</td>\n",
       "      <td>fake</td>\n",
       "    </tr>\n",
       "    <tr>\n",
       "      <th>1355</th>\n",
       "      <td>BREAKING: FBI Suspects Jared Kushner Of Being...</td>\n",
       "      <td>It was recently reported that someone within t...</td>\n",
       "      <td>News</td>\n",
       "      <td>May 25, 2017</td>\n",
       "      <td>fake</td>\n",
       "    </tr>\n",
       "    <tr>\n",
       "      <th>9145</th>\n",
       "      <td>JUST IN: FORMER NBC NEWS ANCHOR Tom Brokaw Tel...</td>\n",
       "      <td>This morning, President Trump tweeted a note o...</td>\n",
       "      <td>politics</td>\n",
       "      <td>Dec 21, 2017</td>\n",
       "      <td>fake</td>\n",
       "    </tr>\n",
       "    <tr>\n",
       "      <th>19</th>\n",
       "      <td>Republican Senator Gets Dragged For Going Aft...</td>\n",
       "      <td>Senate Majority Whip John Cornyn (R-TX) though...</td>\n",
       "      <td>News</td>\n",
       "      <td>December 16, 2017</td>\n",
       "      <td>fake</td>\n",
       "    </tr>\n",
       "    <tr>\n",
       "      <th>10276</th>\n",
       "      <td>FARMER FINED A WHOPPING $2.8 MILLION Asks Pres...</td>\n",
       "      <td>A California farmer fined $2.8 million for plo...</td>\n",
       "      <td>politics</td>\n",
       "      <td>Jul 29, 2017</td>\n",
       "      <td>fake</td>\n",
       "    </tr>\n",
       "    <tr>\n",
       "      <th>13479</th>\n",
       "      <td>WATCH RUDY GIULIANI Rock The Crowd In Clevelan...</td>\n",
       "      <td>In case you missed this Rudy Giuliani delivere...</td>\n",
       "      <td>politics</td>\n",
       "      <td>Jul 20, 2016</td>\n",
       "      <td>fake</td>\n",
       "    </tr>\n",
       "    <tr>\n",
       "      <th>14903</th>\n",
       "      <td>Three Ways We React To ISIS That Plays Right I...</td>\n",
       "      <td>This is a very interesting article and worth t...</td>\n",
       "      <td>politics</td>\n",
       "      <td>Nov 22, 2015</td>\n",
       "      <td>fake</td>\n",
       "    </tr>\n",
       "    <tr>\n",
       "      <th>4465</th>\n",
       "      <td>HuffPo Just Dropped The Mic On Internet Polls...</td>\n",
       "      <td>The earliest actual poll to come out of last n...</td>\n",
       "      <td>News</td>\n",
       "      <td>September 27, 2016</td>\n",
       "      <td>fake</td>\n",
       "    </tr>\n",
       "    <tr>\n",
       "      <th>6096</th>\n",
       "      <td>RNC’s Hilariously Delusional Election Model P...</td>\n",
       "      <td>The Republican Party is not well   we know it ...</td>\n",
       "      <td>News</td>\n",
       "      <td>May 31, 2016</td>\n",
       "      <td>fake</td>\n",
       "    </tr>\n",
       "    <tr>\n",
       "      <th>11979</th>\n",
       "      <td>OBAMA’S Mexico Gun-Running, Race-Baiting, Form...</td>\n",
       "      <td>Eric Holder was embroiled in some sort of cont...</td>\n",
       "      <td>politics</td>\n",
       "      <td>Jan 7, 2017</td>\n",
       "      <td>fake</td>\n",
       "    </tr>\n",
       "  </tbody>\n",
       "</table>\n",
       "</div>"
      ],
      "text/plain": [
       "                                                   title  \\\n",
       "15543  GOP PRESIDENTIAL CANDIDATE MARCO RUBIO CASTS D...   \n",
       "1355    BREAKING: FBI Suspects Jared Kushner Of Being...   \n",
       "9145   JUST IN: FORMER NBC NEWS ANCHOR Tom Brokaw Tel...   \n",
       "19      Republican Senator Gets Dragged For Going Aft...   \n",
       "10276  FARMER FINED A WHOPPING $2.8 MILLION Asks Pres...   \n",
       "13479  WATCH RUDY GIULIANI Rock The Crowd In Clevelan...   \n",
       "14903  Three Ways We React To ISIS That Plays Right I...   \n",
       "4465    HuffPo Just Dropped The Mic On Internet Polls...   \n",
       "6096    RNC’s Hilariously Delusional Election Model P...   \n",
       "11979  OBAMA’S Mexico Gun-Running, Race-Baiting, Form...   \n",
       "\n",
       "                                                    text   subject  \\\n",
       "15543  One more Republican doing his part to aid Obam...  politics   \n",
       "1355   It was recently reported that someone within t...      News   \n",
       "9145   This morning, President Trump tweeted a note o...  politics   \n",
       "19     Senate Majority Whip John Cornyn (R-TX) though...      News   \n",
       "10276  A California farmer fined $2.8 million for plo...  politics   \n",
       "13479  In case you missed this Rudy Giuliani delivere...  politics   \n",
       "14903  This is a very interesting article and worth t...  politics   \n",
       "4465   The earliest actual poll to come out of last n...      News   \n",
       "6096   The Republican Party is not well   we know it ...      News   \n",
       "11979  Eric Holder was embroiled in some sort of cont...  politics   \n",
       "\n",
       "                     date  flag  \n",
       "15543        Jun 23, 2015  fake  \n",
       "1355         May 25, 2017  fake  \n",
       "9145         Dec 21, 2017  fake  \n",
       "19      December 16, 2017  fake  \n",
       "10276        Jul 29, 2017  fake  \n",
       "13479        Jul 20, 2016  fake  \n",
       "14903        Nov 22, 2015  fake  \n",
       "4465   September 27, 2016  fake  \n",
       "6096         May 31, 2016  fake  \n",
       "11979         Jan 7, 2017  fake  "
      ]
     },
     "execution_count": 9,
     "metadata": {},
     "output_type": "execute_result"
    }
   ],
   "source": [
    "limpieza_df(df_fake)"
   ]
  },
  {
   "cell_type": "markdown",
   "metadata": {},
   "source": [
    "Por último, concatenamos los dataframes y reseteamos los índices:"
   ]
  },
  {
   "cell_type": "code",
   "execution_count": 10,
   "metadata": {},
   "outputs": [
    {
     "data": {
      "text/html": [
       "<div>\n",
       "<style scoped>\n",
       "    .dataframe tbody tr th:only-of-type {\n",
       "        vertical-align: middle;\n",
       "    }\n",
       "\n",
       "    .dataframe tbody tr th {\n",
       "        vertical-align: top;\n",
       "    }\n",
       "\n",
       "    .dataframe thead th {\n",
       "        text-align: right;\n",
       "    }\n",
       "</style>\n",
       "<table border=\"1\" class=\"dataframe\">\n",
       "  <thead>\n",
       "    <tr style=\"text-align: right;\">\n",
       "      <th></th>\n",
       "      <th>title</th>\n",
       "      <th>text</th>\n",
       "      <th>subject</th>\n",
       "      <th>date</th>\n",
       "      <th>flag</th>\n",
       "    </tr>\n",
       "  </thead>\n",
       "  <tbody>\n",
       "    <tr>\n",
       "      <th>16355</th>\n",
       "      <td>Catalan leader to lose all powers once Senate ...</td>\n",
       "      <td>MADRID (Reuters) - Regional leader of Cataloni...</td>\n",
       "      <td>worldnews</td>\n",
       "      <td>October 23, 2017</td>\n",
       "      <td>true</td>\n",
       "    </tr>\n",
       "    <tr>\n",
       "      <th>13862</th>\n",
       "      <td>Mladic will appeal conviction, sentence</td>\n",
       "      <td>THE HAGUE (Reuters) - Former Bosnian Serb mili...</td>\n",
       "      <td>worldnews</td>\n",
       "      <td>November 22, 2017</td>\n",
       "      <td>true</td>\n",
       "    </tr>\n",
       "    <tr>\n",
       "      <th>21366</th>\n",
       "      <td>Watch This Nazi Cry Like A Little B*tch After...</td>\n",
       "      <td>Christopher Cantwell, one of the Nazis feature...</td>\n",
       "      <td>News</td>\n",
       "      <td>August 16, 2017</td>\n",
       "      <td>fake</td>\n",
       "    </tr>\n",
       "    <tr>\n",
       "      <th>1465</th>\n",
       "      <td>U.S. preparing plan to draw down embassy staff...</td>\n",
       "      <td>WASHINGTON (Reuters) - The United States is cr...</td>\n",
       "      <td>politicsNews</td>\n",
       "      <td>September 28, 2017</td>\n",
       "      <td>true</td>\n",
       "    </tr>\n",
       "    <tr>\n",
       "      <th>5908</th>\n",
       "      <td>Trump spoke to Mexican president on Friday: Wh...</td>\n",
       "      <td>WASHINGTON (Reuters) - President Donald Trump ...</td>\n",
       "      <td>politicsNews</td>\n",
       "      <td>January 27, 2017</td>\n",
       "      <td>true</td>\n",
       "    </tr>\n",
       "    <tr>\n",
       "      <th>38061</th>\n",
       "      <td>Boiler Room EP #72 – Trailer Parks in Heaven</td>\n",
       "      <td>Tune in to the Alternate Current Radio Network...</td>\n",
       "      <td>US_News</td>\n",
       "      <td>September 3, 2016</td>\n",
       "      <td>fake</td>\n",
       "    </tr>\n",
       "    <tr>\n",
       "      <th>23858</th>\n",
       "      <td>Susan Collins Bucked Party, Voted To Protect ...</td>\n",
       "      <td>Even though Senator Susan Collins voted with t...</td>\n",
       "      <td>News</td>\n",
       "      <td>January 12, 2017</td>\n",
       "      <td>fake</td>\n",
       "    </tr>\n",
       "    <tr>\n",
       "      <th>27678</th>\n",
       "      <td>This ‘Do Your Job’ Video Is Humiliating GOP S...</td>\n",
       "      <td>We pay our senators $174,000 per year. For tha...</td>\n",
       "      <td>News</td>\n",
       "      <td>April 17, 2016</td>\n",
       "      <td>fake</td>\n",
       "    </tr>\n",
       "    <tr>\n",
       "      <th>38064</th>\n",
       "      <td>SpaceX: Explosion Rocks Launchpad at Firm’s Ca...</td>\n",
       "      <td>21st Century Wire says The  privatization of ...</td>\n",
       "      <td>US_News</td>\n",
       "      <td>September 1, 2016</td>\n",
       "      <td>fake</td>\n",
       "    </tr>\n",
       "    <tr>\n",
       "      <th>16169</th>\n",
       "      <td>Australia campuses warned of 'clandestine' inf...</td>\n",
       "      <td>SYDNEY (Reuters) - Australia s domestic spy ch...</td>\n",
       "      <td>worldnews</td>\n",
       "      <td>October 25, 2017</td>\n",
       "      <td>true</td>\n",
       "    </tr>\n",
       "  </tbody>\n",
       "</table>\n",
       "</div>"
      ],
      "text/plain": [
       "                                                   title  \\\n",
       "16355  Catalan leader to lose all powers once Senate ...   \n",
       "13862            Mladic will appeal conviction, sentence   \n",
       "21366   Watch This Nazi Cry Like A Little B*tch After...   \n",
       "1465   U.S. preparing plan to draw down embassy staff...   \n",
       "5908   Trump spoke to Mexican president on Friday: Wh...   \n",
       "38061       Boiler Room EP #72 – Trailer Parks in Heaven   \n",
       "23858   Susan Collins Bucked Party, Voted To Protect ...   \n",
       "27678   This ‘Do Your Job’ Video Is Humiliating GOP S...   \n",
       "38064  SpaceX: Explosion Rocks Launchpad at Firm’s Ca...   \n",
       "16169  Australia campuses warned of 'clandestine' inf...   \n",
       "\n",
       "                                                    text       subject  \\\n",
       "16355  MADRID (Reuters) - Regional leader of Cataloni...     worldnews   \n",
       "13862  THE HAGUE (Reuters) - Former Bosnian Serb mili...     worldnews   \n",
       "21366  Christopher Cantwell, one of the Nazis feature...          News   \n",
       "1465   WASHINGTON (Reuters) - The United States is cr...  politicsNews   \n",
       "5908   WASHINGTON (Reuters) - President Donald Trump ...  politicsNews   \n",
       "38061  Tune in to the Alternate Current Radio Network...       US_News   \n",
       "23858  Even though Senator Susan Collins voted with t...          News   \n",
       "27678  We pay our senators $174,000 per year. For tha...          News   \n",
       "38064   21st Century Wire says The  privatization of ...       US_News   \n",
       "16169  SYDNEY (Reuters) - Australia s domestic spy ch...     worldnews   \n",
       "\n",
       "                      date  flag  \n",
       "16355    October 23, 2017   true  \n",
       "13862   November 22, 2017   true  \n",
       "21366      August 16, 2017  fake  \n",
       "1465   September 28, 2017   true  \n",
       "5908     January 27, 2017   true  \n",
       "38061    September 3, 2016  fake  \n",
       "23858     January 12, 2017  fake  \n",
       "27678       April 17, 2016  fake  \n",
       "38064    September 1, 2016  fake  \n",
       "16169    October 25, 2017   true  "
      ]
     },
     "execution_count": 10,
     "metadata": {},
     "output_type": "execute_result"
    }
   ],
   "source": [
    "df = pd.concat([df_true, df_fake], axis=0)\n",
    "df = df.reset_index(drop=True)\n",
    "df.sample(10,random_state=42)"
   ]
  },
  {
   "cell_type": "markdown",
   "metadata": {},
   "source": [
    "El objetivo en adelante pasa a ser: **predecir la variable flag a través del título de una noticia**. Lo bueno y simple de esto es que a futuro se puede usar el mismo código para evaluar titulares de noticias de un portal haciendo web scrapping:"
   ]
  },
  {
   "cell_type": "markdown",
   "metadata": {},
   "source": [
    "Entonces, deberemos procesar y transformar la variable \"title\" de nuestro dataframe para poder alimentar los algoritmos de NLP y luego de Categorización"
   ]
  },
  {
   "cell_type": "code",
   "execution_count": 11,
   "metadata": {},
   "outputs": [],
   "source": [
    "# Se explica más adelante el posible uso de esta línea de código\n",
    "#df['title_text']=df['title']+\" \"+df['text'] "
   ]
  },
  {
   "cell_type": "markdown",
   "metadata": {},
   "source": [
    "# Limpieza de los textos"
   ]
  },
  {
   "cell_type": "markdown",
   "metadata": {},
   "source": [
    "Vamos a \"limpiar\" los strings de los títulos, a través de expresiones regulares, retirando todo signo de puntuación, números, espacios en blanco de sobra (todo lo que no sea palabra separadas por un espacios) y pasar a minúsculas "
   ]
  },
  {
   "cell_type": "code",
   "execution_count": 12,
   "metadata": {},
   "outputs": [],
   "source": [
    "def limpieza_textos(df,column):\n",
    "    \n",
    "    # Eliminamos signos de puntuación\n",
    "    df[column] = df[column].str.replace('[^\\w\\s]',' ')\n",
    "\n",
    "    # Eliminamos números \n",
    "    df[column] = df[column].str.replace('[^A-Za-z]',' ')\n",
    "\n",
    "    # Eliminamos los posibles doble espacios\n",
    "    df[column] = df[column].str.replace('  ',' ')\n",
    "    df[column]= df[column].str.replace('  ',' ')\n",
    "\n",
    "    # pasamos los textos a minúsculas\n",
    "    df[column] = df[column].str.lower()\n",
    "    \n",
    "    print(\"New shape:\", df.shape)\n",
    "    return df.sample(10,random_state=42)"
   ]
  },
  {
   "cell_type": "code",
   "execution_count": 13,
   "metadata": {},
   "outputs": [
    {
     "name": "stdout",
     "output_type": "stream",
     "text": [
      "New shape: (38271, 5)\n"
     ]
    },
    {
     "data": {
      "text/html": [
       "<div>\n",
       "<style scoped>\n",
       "    .dataframe tbody tr th:only-of-type {\n",
       "        vertical-align: middle;\n",
       "    }\n",
       "\n",
       "    .dataframe tbody tr th {\n",
       "        vertical-align: top;\n",
       "    }\n",
       "\n",
       "    .dataframe thead th {\n",
       "        text-align: right;\n",
       "    }\n",
       "</style>\n",
       "<table border=\"1\" class=\"dataframe\">\n",
       "  <thead>\n",
       "    <tr style=\"text-align: right;\">\n",
       "      <th></th>\n",
       "      <th>title</th>\n",
       "      <th>text</th>\n",
       "      <th>subject</th>\n",
       "      <th>date</th>\n",
       "      <th>flag</th>\n",
       "    </tr>\n",
       "  </thead>\n",
       "  <tbody>\n",
       "    <tr>\n",
       "      <th>16355</th>\n",
       "      <td>catalan leader to lose all powers once senate ...</td>\n",
       "      <td>MADRID (Reuters) - Regional leader of Cataloni...</td>\n",
       "      <td>worldnews</td>\n",
       "      <td>October 23, 2017</td>\n",
       "      <td>true</td>\n",
       "    </tr>\n",
       "    <tr>\n",
       "      <th>13862</th>\n",
       "      <td>mladic will appeal conviction sentence</td>\n",
       "      <td>THE HAGUE (Reuters) - Former Bosnian Serb mili...</td>\n",
       "      <td>worldnews</td>\n",
       "      <td>November 22, 2017</td>\n",
       "      <td>true</td>\n",
       "    </tr>\n",
       "    <tr>\n",
       "      <th>21366</th>\n",
       "      <td>watch this nazi cry like a little b tch after...</td>\n",
       "      <td>Christopher Cantwell, one of the Nazis feature...</td>\n",
       "      <td>News</td>\n",
       "      <td>August 16, 2017</td>\n",
       "      <td>fake</td>\n",
       "    </tr>\n",
       "    <tr>\n",
       "      <th>1465</th>\n",
       "      <td>u s preparing plan to draw down embassy staff ...</td>\n",
       "      <td>WASHINGTON (Reuters) - The United States is cr...</td>\n",
       "      <td>politicsNews</td>\n",
       "      <td>September 28, 2017</td>\n",
       "      <td>true</td>\n",
       "    </tr>\n",
       "    <tr>\n",
       "      <th>5908</th>\n",
       "      <td>trump spoke to mexican president on friday whi...</td>\n",
       "      <td>WASHINGTON (Reuters) - President Donald Trump ...</td>\n",
       "      <td>politicsNews</td>\n",
       "      <td>January 27, 2017</td>\n",
       "      <td>true</td>\n",
       "    </tr>\n",
       "    <tr>\n",
       "      <th>38061</th>\n",
       "      <td>boiler room ep  trailer parks in heaven</td>\n",
       "      <td>Tune in to the Alternate Current Radio Network...</td>\n",
       "      <td>US_News</td>\n",
       "      <td>September 3, 2016</td>\n",
       "      <td>fake</td>\n",
       "    </tr>\n",
       "    <tr>\n",
       "      <th>23858</th>\n",
       "      <td>susan collins bucked party voted to protect k...</td>\n",
       "      <td>Even though Senator Susan Collins voted with t...</td>\n",
       "      <td>News</td>\n",
       "      <td>January 12, 2017</td>\n",
       "      <td>fake</td>\n",
       "    </tr>\n",
       "    <tr>\n",
       "      <th>27678</th>\n",
       "      <td>this do your job video is humiliating gop sen...</td>\n",
       "      <td>We pay our senators $174,000 per year. For tha...</td>\n",
       "      <td>News</td>\n",
       "      <td>April 17, 2016</td>\n",
       "      <td>fake</td>\n",
       "    </tr>\n",
       "    <tr>\n",
       "      <th>38064</th>\n",
       "      <td>spacex explosion rocks launchpad at firm s cap...</td>\n",
       "      <td>21st Century Wire says The  privatization of ...</td>\n",
       "      <td>US_News</td>\n",
       "      <td>September 1, 2016</td>\n",
       "      <td>fake</td>\n",
       "    </tr>\n",
       "    <tr>\n",
       "      <th>16169</th>\n",
       "      <td>australia campuses warned of clandestine influ...</td>\n",
       "      <td>SYDNEY (Reuters) - Australia s domestic spy ch...</td>\n",
       "      <td>worldnews</td>\n",
       "      <td>October 25, 2017</td>\n",
       "      <td>true</td>\n",
       "    </tr>\n",
       "  </tbody>\n",
       "</table>\n",
       "</div>"
      ],
      "text/plain": [
       "                                                   title  \\\n",
       "16355  catalan leader to lose all powers once senate ...   \n",
       "13862             mladic will appeal conviction sentence   \n",
       "21366   watch this nazi cry like a little b tch after...   \n",
       "1465   u s preparing plan to draw down embassy staff ...   \n",
       "5908   trump spoke to mexican president on friday whi...   \n",
       "38061            boiler room ep  trailer parks in heaven   \n",
       "23858   susan collins bucked party voted to protect k...   \n",
       "27678   this do your job video is humiliating gop sen...   \n",
       "38064  spacex explosion rocks launchpad at firm s cap...   \n",
       "16169  australia campuses warned of clandestine influ...   \n",
       "\n",
       "                                                    text       subject  \\\n",
       "16355  MADRID (Reuters) - Regional leader of Cataloni...     worldnews   \n",
       "13862  THE HAGUE (Reuters) - Former Bosnian Serb mili...     worldnews   \n",
       "21366  Christopher Cantwell, one of the Nazis feature...          News   \n",
       "1465   WASHINGTON (Reuters) - The United States is cr...  politicsNews   \n",
       "5908   WASHINGTON (Reuters) - President Donald Trump ...  politicsNews   \n",
       "38061  Tune in to the Alternate Current Radio Network...       US_News   \n",
       "23858  Even though Senator Susan Collins voted with t...          News   \n",
       "27678  We pay our senators $174,000 per year. For tha...          News   \n",
       "38064   21st Century Wire says The  privatization of ...       US_News   \n",
       "16169  SYDNEY (Reuters) - Australia s domestic spy ch...     worldnews   \n",
       "\n",
       "                      date  flag  \n",
       "16355    October 23, 2017   true  \n",
       "13862   November 22, 2017   true  \n",
       "21366      August 16, 2017  fake  \n",
       "1465   September 28, 2017   true  \n",
       "5908     January 27, 2017   true  \n",
       "38061    September 3, 2016  fake  \n",
       "23858     January 12, 2017  fake  \n",
       "27678       April 17, 2016  fake  \n",
       "38064    September 1, 2016  fake  \n",
       "16169    October 25, 2017   true  "
      ]
     },
     "execution_count": 13,
     "metadata": {},
     "output_type": "execute_result"
    }
   ],
   "source": [
    "limpieza_textos(df,'title')\n",
    "#limpieza_textos(df,'title_text')"
   ]
  },
  {
   "cell_type": "markdown",
   "metadata": {},
   "source": [
    "# Breve análisis de las otras variables"
   ]
  },
  {
   "cell_type": "markdown",
   "metadata": {},
   "source": [
    "La variable **textos**, sería interesante tenerala en cuenta para nuestro análisis. Realizando un concatenado de las variables title y text (procesando todo como una misma variable) podríamos obtener mejores resultados. \n",
    "\n",
    "En el sample anterior vemos como las noticias verdaderas suelen comenzar con el nombre de la fuente (Por ejemplo: reuters) y las falsas no. \n",
    "\n",
    "En cuanto a la variable de las fechas, no parece interesar para el análisis de determinación si es verdadera o no.\n",
    "\n",
    "Otra variable que podía haber ayudado a los modelos de categorización, es si se conociera la fuente de todas las noticias. Aquí no estaríamos realizando un análisis de NLP, pero si lo tendríamos en cuenta para predecir la veracidad de las noticias en función del sitio que provienen"
   ]
  },
  {
   "cell_type": "markdown",
   "metadata": {},
   "source": [
    "Por último, una variable que si podemos analizar en detenimiento es el tema: Vamos a analizar las tablas de frecuencias de las categorías de noticias \"subject\" vs si es verdadera o falsa."
   ]
  },
  {
   "cell_type": "code",
   "execution_count": 14,
   "metadata": {},
   "outputs": [
    {
     "data": {
      "text/html": [
       "<div>\n",
       "<style scoped>\n",
       "    .dataframe tbody tr th:only-of-type {\n",
       "        vertical-align: middle;\n",
       "    }\n",
       "\n",
       "    .dataframe tbody tr th {\n",
       "        vertical-align: top;\n",
       "    }\n",
       "\n",
       "    .dataframe thead th {\n",
       "        text-align: right;\n",
       "    }\n",
       "</style>\n",
       "<table border=\"1\" class=\"dataframe\">\n",
       "  <thead>\n",
       "    <tr style=\"text-align: right;\">\n",
       "      <th>subject</th>\n",
       "      <th>Government News</th>\n",
       "      <th>News</th>\n",
       "      <th>US_News</th>\n",
       "      <th>left-news</th>\n",
       "      <th>politics</th>\n",
       "      <th>politicsNews</th>\n",
       "      <th>worldnews</th>\n",
       "    </tr>\n",
       "    <tr>\n",
       "      <th>flag</th>\n",
       "      <th></th>\n",
       "      <th></th>\n",
       "      <th></th>\n",
       "      <th></th>\n",
       "      <th></th>\n",
       "      <th></th>\n",
       "      <th></th>\n",
       "    </tr>\n",
       "  </thead>\n",
       "  <tbody>\n",
       "    <tr>\n",
       "      <th>fake</th>\n",
       "      <td>514</td>\n",
       "      <td>9049</td>\n",
       "      <td>783</td>\n",
       "      <td>683</td>\n",
       "      <td>6421</td>\n",
       "      <td>0</td>\n",
       "      <td>0</td>\n",
       "    </tr>\n",
       "    <tr>\n",
       "      <th>true</th>\n",
       "      <td>0</td>\n",
       "      <td>0</td>\n",
       "      <td>0</td>\n",
       "      <td>0</td>\n",
       "      <td>0</td>\n",
       "      <td>11147</td>\n",
       "      <td>9674</td>\n",
       "    </tr>\n",
       "  </tbody>\n",
       "</table>\n",
       "</div>"
      ],
      "text/plain": [
       "subject  Government News  News  US_News  left-news  politics  politicsNews  \\\n",
       "flag                                                                         \n",
       "fake                 514  9049      783        683      6421             0   \n",
       "true                   0     0        0          0         0         11147   \n",
       "\n",
       "subject  worldnews  \n",
       "flag                \n",
       "fake             0  \n",
       "true          9674  "
      ]
     },
     "execution_count": 14,
     "metadata": {},
     "output_type": "execute_result"
    }
   ],
   "source": [
    "(pd.crosstab(df['flag'], df['subject']))"
   ]
  },
  {
   "cell_type": "markdown",
   "metadata": {},
   "source": [
    "Estos resultados muestran una evidencia de que en función del subject se podría predecir si la noticia es falsa o verdadera. Pero posiblemente sea por el dataset en si. Así que no tendremos en cuenta esta variable para el análisis ya que estaríamos \"ayudandolo\" a predecir."
   ]
  },
  {
   "cell_type": "markdown",
   "metadata": {},
   "source": [
    "Finalmente, eliminamos del dataframe las columnas que no tendremos en cuenta para el procesamiento NLP y categorización"
   ]
  },
  {
   "cell_type": "code",
   "execution_count": 15,
   "metadata": {},
   "outputs": [],
   "source": [
    "df.drop([\"subject\",\"text\",\"date\"],axis=1,inplace=True)\n",
    "#df.drop([\"title\",\"subject\",\"text\",\"date\"],axis=1,inplace=True)"
   ]
  },
  {
   "cell_type": "markdown",
   "metadata": {},
   "source": [
    "**Nota importante:** Volviendo a la alternativa de incorporar el texto de las noticias a nuestro análisis, esto se hubiera realizado concatenando el titular más el texto de las noticias. Ciertamente hubiera enriquecido el entrenamiento del modelo al tener más información y diferenciación entre las noticias verdaderas y falsas.\n",
    "\n",
    "Se intentó modelar de esta manera, pero la función de preprocesamiento_texto() aplicado a todo el titulo + texto se excedía en tiempo.\n",
    "\n",
    "En las tareas limpieza y preprocesamiento de los textos reemplazaríamos el uso de la columna df['title'] por df['title_text']. Siendo df['title_text']=df['title']+\" \"+df['text']. Queda #comentado como sería el código a lo largo de la PEC\n",
    "\n",
    "De esta manera la predicción de si la noticia es verdadera o falsa tendría en cuenta ambas variables. "
   ]
  },
  {
   "cell_type": "markdown",
   "metadata": {},
   "source": [
    "# Modelado"
   ]
  },
  {
   "cell_type": "markdown",
   "metadata": {},
   "source": [
    "Una parte importante para trabajar con NLP es obtener los **lemas** de las palabras. Para esto, creamos una función que para cada texto lo **toquenice**, **limpiamos las \"stopwords\"** del propio idioma que no serán significativas para el análisis y por último obtenemos los **stemmings**:"
   ]
  },
  {
   "cell_type": "code",
   "execution_count": 16,
   "metadata": {},
   "outputs": [],
   "source": [
    "def procesamiento_texto(title):\n",
    "    #Toquenizamos:\n",
    "    list_title=title.split()\n",
    "    \n",
    "    #Eliminamos las Stopwords en ingles:\n",
    "    list_title=[word for word in list_title if word not in nltk.corpus.stopwords.words(\"english\")]\n",
    "    \n",
    "    #Obtenemos los stemmings:\n",
    "    aux=nltk.stem.porter.PorterStemmer()\n",
    "    list_title=[aux.stem(word)for word in list_title]\n",
    "    \n",
    "    #Obtenemos los lemas:\n",
    "    lemmas=nltk.stem.wordnet.WordNetLemmatizer()\n",
    "    list_title=[lemmas.lemmatize(word) for word in list_title]\n",
    "    \n",
    "    #Volvemos a frase:\n",
    "    title=\" \".join(list_title)\n",
    "    return title"
   ]
  },
  {
   "cell_type": "markdown",
   "metadata": {},
   "source": [
    "Aplicamos esta función al data frame actual a traves de la combinación de **apply - lamda:**"
   ]
  },
  {
   "cell_type": "code",
   "execution_count": 17,
   "metadata": {},
   "outputs": [],
   "source": [
    "df['title_clean']=df['title'].apply(lambda x: procesamiento_texto(x))\n",
    "#df['title_text_clean']=df['title_text'].apply(lambda x: procesamiento_texto(x))"
   ]
  },
  {
   "cell_type": "markdown",
   "metadata": {},
   "source": [
    "Por último convertimos cada string de textos en **listas de lemas:** en la columna \"title_clean_grams\""
   ]
  },
  {
   "cell_type": "code",
   "execution_count": 18,
   "metadata": {},
   "outputs": [
    {
     "data": {
      "text/html": [
       "<div>\n",
       "<style scoped>\n",
       "    .dataframe tbody tr th:only-of-type {\n",
       "        vertical-align: middle;\n",
       "    }\n",
       "\n",
       "    .dataframe tbody tr th {\n",
       "        vertical-align: top;\n",
       "    }\n",
       "\n",
       "    .dataframe thead th {\n",
       "        text-align: right;\n",
       "    }\n",
       "</style>\n",
       "<table border=\"1\" class=\"dataframe\">\n",
       "  <thead>\n",
       "    <tr style=\"text-align: right;\">\n",
       "      <th></th>\n",
       "      <th>title</th>\n",
       "      <th>flag</th>\n",
       "      <th>title_clean</th>\n",
       "      <th>title_clean_grams</th>\n",
       "    </tr>\n",
       "  </thead>\n",
       "  <tbody>\n",
       "    <tr>\n",
       "      <th>24626</th>\n",
       "      <td>know nothing trump reverses yet another posit...</td>\n",
       "      <td>fake</td>\n",
       "      <td>know noth trump revers yet anoth posit foreign...</td>\n",
       "      <td>[know, noth, trump, revers, yet, anoth, posit,...</td>\n",
       "    </tr>\n",
       "    <tr>\n",
       "      <th>29358</th>\n",
       "      <td>grand jury indicts anti choice zealots who pr...</td>\n",
       "      <td>fake</td>\n",
       "      <td>grand juri indict anti choic zealot produc pho...</td>\n",
       "      <td>[grand, juri, indict, anti, choic, zealot, pro...</td>\n",
       "    </tr>\n",
       "    <tr>\n",
       "      <th>11617</th>\n",
       "      <td>venezuela s maduro says terrorists stole weapo...</td>\n",
       "      <td>true</td>\n",
       "      <td>venezuela maduro say terrorist stole weapon mi...</td>\n",
       "      <td>[venezuela, maduro, say, terrorist, stole, wea...</td>\n",
       "    </tr>\n",
       "    <tr>\n",
       "      <th>8857</th>\n",
       "      <td>in campaign trail debut with clinton warren sa...</td>\n",
       "      <td>true</td>\n",
       "      <td>campaign trail debut clinton warren say trump ...</td>\n",
       "      <td>[campaign, trail, debut, clinton, warren, say,...</td>\n",
       "    </tr>\n",
       "    <tr>\n",
       "      <th>10478</th>\n",
       "      <td>hecklers disrupt trump rally photographer shov...</td>\n",
       "      <td>true</td>\n",
       "      <td>heckler disrupt trump ralli photograph shove g...</td>\n",
       "      <td>[heckler, disrupt, trump, ralli, photograph, s...</td>\n",
       "    </tr>\n",
       "    <tr>\n",
       "      <th>33378</th>\n",
       "      <td>tonight s first presidential debate what time ...</td>\n",
       "      <td>fake</td>\n",
       "      <td>tonight first presidenti debat time watch insi...</td>\n",
       "      <td>[tonight, first, presidenti, debat, time, watc...</td>\n",
       "    </tr>\n",
       "    <tr>\n",
       "      <th>4199</th>\n",
       "      <td>north korean official says will continue missi...</td>\n",
       "      <td>true</td>\n",
       "      <td>north korean offici say continu missil test bbc</td>\n",
       "      <td>[north, korean, offici, say, continu, missil, ...</td>\n",
       "    </tr>\n",
       "    <tr>\n",
       "      <th>14805</th>\n",
       "      <td>u s s tillerson concerned over saudi purge mon...</td>\n",
       "      <td>true</td>\n",
       "      <td>u tillerson concern saudi purg monitor hariri ...</td>\n",
       "      <td>[u, tillerson, concern, saudi, purg, monitor, ...</td>\n",
       "    </tr>\n",
       "    <tr>\n",
       "      <th>11411</th>\n",
       "      <td>pakistan closes ngos in what activists see as ...</td>\n",
       "      <td>true</td>\n",
       "      <td>pakistan close ngo activist see widen crackdown</td>\n",
       "      <td>[pakistan, close, ngo, activist, see, widen, c...</td>\n",
       "    </tr>\n",
       "    <tr>\n",
       "      <th>29186</th>\n",
       "      <td>nazi ranting man accosts msnbc host at iowa c...</td>\n",
       "      <td>fake</td>\n",
       "      <td>nazi rant man accost msnbc host iowa caucu</td>\n",
       "      <td>[nazi, rant, man, accost, msnbc, host, iowa, c...</td>\n",
       "    </tr>\n",
       "  </tbody>\n",
       "</table>\n",
       "</div>"
      ],
      "text/plain": [
       "                                                   title  flag  \\\n",
       "24626   know nothing trump reverses yet another posit...  fake   \n",
       "29358   grand jury indicts anti choice zealots who pr...  fake   \n",
       "11617  venezuela s maduro says terrorists stole weapo...  true   \n",
       "8857   in campaign trail debut with clinton warren sa...  true   \n",
       "10478  hecklers disrupt trump rally photographer shov...  true   \n",
       "33378  tonight s first presidential debate what time ...  fake   \n",
       "4199   north korean official says will continue missi...  true   \n",
       "14805  u s s tillerson concerned over saudi purge mon...  true   \n",
       "11411  pakistan closes ngos in what activists see as ...  true   \n",
       "29186   nazi ranting man accosts msnbc host at iowa c...  fake   \n",
       "\n",
       "                                             title_clean  \\\n",
       "24626  know noth trump revers yet anoth posit foreign...   \n",
       "29358  grand juri indict anti choic zealot produc pho...   \n",
       "11617  venezuela maduro say terrorist stole weapon mi...   \n",
       "8857   campaign trail debut clinton warren say trump ...   \n",
       "10478  heckler disrupt trump ralli photograph shove g...   \n",
       "33378  tonight first presidenti debat time watch insi...   \n",
       "4199     north korean offici say continu missil test bbc   \n",
       "14805  u tillerson concern saudi purg monitor hariri ...   \n",
       "11411    pakistan close ngo activist see widen crackdown   \n",
       "29186         nazi rant man accost msnbc host iowa caucu   \n",
       "\n",
       "                                       title_clean_grams  \n",
       "24626  [know, noth, trump, revers, yet, anoth, posit,...  \n",
       "29358  [grand, juri, indict, anti, choic, zealot, pro...  \n",
       "11617  [venezuela, maduro, say, terrorist, stole, wea...  \n",
       "8857   [campaign, trail, debut, clinton, warren, say,...  \n",
       "10478  [heckler, disrupt, trump, ralli, photograph, s...  \n",
       "33378  [tonight, first, presidenti, debat, time, watc...  \n",
       "4199   [north, korean, offici, say, continu, missil, ...  \n",
       "14805  [u, tillerson, concern, saudi, purg, monitor, ...  \n",
       "11411  [pakistan, close, ngo, activist, see, widen, c...  \n",
       "29186  [nazi, rant, man, accost, msnbc, host, iowa, c...  "
      ]
     },
     "execution_count": 18,
     "metadata": {},
     "output_type": "execute_result"
    }
   ],
   "source": [
    "df['title_clean_grams']=df['title_clean'].apply(lambda x: x.split())\n",
    "#df['title_text_clean_grams']=df['title_text_clean'].apply(lambda x: x.split())\n",
    "df.sample(10)"
   ]
  },
  {
   "cell_type": "markdown",
   "metadata": {},
   "source": [
    "Brevemente también podemos hacer **mostrar los bigrams** presentes en el corpus tota con sus respecivos Scores. Usamos el algoritmo **Phrases**, también presente en gensim models"
   ]
  },
  {
   "cell_type": "code",
   "execution_count": 19,
   "metadata": {},
   "outputs": [
    {
     "data": {
      "text/plain": [
       "0            (valeri_jarrett, 10204.25)\n",
       "1      (bett_midler, 9920.798611111111)\n",
       "2       (pena_nieto, 9660.828402366864)\n",
       "3         (lou_dobb, 9660.828402366864)\n",
       "4       (salli_yate, 9157.660256410256)\n",
       "5                (dinesh_souza, 8746.5)\n",
       "6        (sri_lanka, 8503.541666666666)\n",
       "7    (degrass_tyson, 8503.541666666666)\n",
       "8               (patton_oswalt, 8330.0)\n",
       "9             (meryl_streep, 8253.4375)\n",
       "dtype: object"
      ]
     },
     "execution_count": 19,
     "metadata": {},
     "output_type": "execute_result"
    }
   ],
   "source": [
    "bigram_model=Phrases(df['title_clean_grams'])\n",
    "#bigram_model=Phrases(df['title_text_clean_grams'])\n",
    "phrases_bigram=bigram_model.export_phrases()\n",
    "pd.Series(sorted(phrases_bigram.items(),key=operator.itemgetter(1),reverse=True)).head(10)"
   ]
  },
  {
   "cell_type": "markdown",
   "metadata": {},
   "source": [
    "Como buena práctica para evaluar los modelos de machine learning (ya sea nlp o de categorización) **dividimos el dataset en entrenamiento y test:**"
   ]
  },
  {
   "cell_type": "code",
   "execution_count": 20,
   "metadata": {},
   "outputs": [],
   "source": [
    "df_train,df_test=train_test_split(df,random_state=42)"
   ]
  },
  {
   "cell_type": "markdown",
   "metadata": {},
   "source": [
    "Para poder alimentar un modelo de categorización de machine learning teniendo frases y textos **necesitamos vectorizar los mismos.** Para esto usaremos el **Modelo Doc2Vec**, de gensim models, basado en **Deep Learning** que utilizan redes neuronales por debajo\n",
    "- Este modelo supera el simple promedio de vecotres Word2Vec. Se considera una extensión de word2vec ya que aprende a correlacionar etiquetas y palabras, en lugar de palabras con palabras.\n",
    "- Los textos que se le pasan para crear, entrenar y predecir deben estar en formato **TaggedDocument** que es una lista de los tokens que componen el texto y luego seguido de su etiqueta (flag). Lo favorable de este algorirmo es que no te exige que la \"bandera\" sea un valor númerico o booleano, puede ser un string. Por lo tanto, los dejamos como \"true\" y \"fake\""
   ]
  },
  {
   "cell_type": "markdown",
   "metadata": {},
   "source": [
    "Entonces, **generamos las listas de TaggedDocuments** para los datasets de df_train (documents_training) y df_test (documents_test):"
   ]
  },
  {
   "cell_type": "code",
   "execution_count": 21,
   "metadata": {},
   "outputs": [],
   "source": [
    "documents_training=[]\n",
    "documents_test=[]\n",
    "for i in range(len(df_train)):\n",
    "    documents_training.append(TaggedDocument(df_train['title_clean_grams'].iloc[i],df_train['flag'].iloc[i]))\n",
    "    #documents_training.append(TaggedDocument(df_train['title_text_clean_grams'].iloc[i],df_train['flag'].iloc[i]))\n",
    "for j in range(len(df_test)):\n",
    "    documents_test.append(TaggedDocument(df_test['title_clean_grams'].iloc[j],df_test['flag'].iloc[j]))\n",
    "    #documents_test.append(TaggedDocument(df_test['title_text_clean_grams'].iloc[j],df_test['flag'].iloc[j]))"
   ]
  },
  {
   "cell_type": "markdown",
   "metadata": {},
   "source": [
    "Ahora, ya podemos crear el modelo Doc2Vec, lo haremos con los siguientes **parametros** y sin pasarle de inicio los textos:\n",
    "- dm=1 (Implementación de algoritmo con memoria distribuida) (PV-DM).\n",
    "- vector_size=300 - Dimensionalidad de los vectores\n",
    "- negative=5 - da uso al dibujo de \"noise words\" - mejor performance\n",
    "- hs=0 - requerido para cuando usamos el parámetro negative.\n",
    "- min_count=2 (ingora todas las palabras que no se repitan almenos una vez)\n",
    "- sample=0\n",
    "- alpha= 0.025 - ratio de aprendizaje (bajo)\n",
    "- min_alpha =0.001 - como va bajando el ratio de aprendizaje a medida que avanza el entrenamiento\n",
    "- seed=42 - semilla para que los datos sean consistentes.\n",
    "\n",
    "Segundo, creamos su vocabulario asignandole la secuencia de los taggedDocuments que generamos anteriormente y guardamos en la variable documents_training.\n",
    "\n",
    "Tercero, último entrenamos el modelo con los siguientes parámetros:\n",
    "- corpus_iterable=documents_training\n",
    "- total_examples= número de documentos que le pasamos.\n",
    "- epochs=40 (número de iteraciones para entrenar)\n",
    "\n",
    "Por último, salvamos el modelo."
   ]
  },
  {
   "cell_type": "code",
   "execution_count": 22,
   "metadata": {},
   "outputs": [
    {
     "name": "stderr",
     "output_type": "stream",
     "text": [
      "100%|██████████| 28703/28703 [00:00<00:00, 2613404.85it/s]\n"
     ]
    }
   ],
   "source": [
    "model_doc2vec = Doc2Vec(dm=1, vector_size=300,seed=42, negative=5, hs=0, min_count=2, sample = 0, alpha=0.025, min_alpha=0.001)\n",
    "model_doc2vec.build_vocab([x for x in tqdm(documents_training)])\n",
    "model_doc2vec.train(documents_training,total_examples=len(documents_training), epochs=40)\n",
    "\n",
    "model_doc2vec.save('./model_doc2vec_pec.d2v')\n",
    "#luego de salvarlo podríamos volver a cargarlo con el método load."
   ]
  },
  {
   "cell_type": "markdown",
   "metadata": {},
   "source": [
    "Teniendo el modelo de vectorización ya entrenado, ahora podemos obtener las variables X e Y de entrenamiento y test que alimentarán el modelo de machine learning:\n",
    "\n",
    "Creamos la función de vector_ml que devuelve los vectores target (1 si es verdadera, 0 si es falsa la noticia) y los vectores que genera el modelo entrenado a traves del metodo .infer_vector(palabras,steps=20) "
   ]
  },
  {
   "cell_type": "code",
   "execution_count": 23,
   "metadata": {},
   "outputs": [],
   "source": [
    "def vector_ml(model, input_docs):\n",
    "    sents = input_docs\n",
    "    targets, text_vectors = zip(*[(int(doc.tags=='true'), model.infer_vector(doc.words, steps=20)) for doc in sents])\n",
    "    return targets, text_vectors"
   ]
  },
  {
   "cell_type": "code",
   "execution_count": 24,
   "metadata": {},
   "outputs": [],
   "source": [
    "y_train, X_train = vector_ml(model_doc2vec, documents_training)\n",
    "y_test, X_test = vector_ml(model_doc2vec, documents_test)"
   ]
  },
  {
   "cell_type": "markdown",
   "metadata": {},
   "source": [
    "Estos set de datos transformados ya están listos para usarse en el modelo de categorización"
   ]
  },
  {
   "cell_type": "markdown",
   "metadata": {},
   "source": [
    "## Algunas operaciones que podemos efectuar con el modelo de vectorización:\n",
    "Por ejemplo, veamos la frecuencia de la palabra \"crime\" en nuestro modelo entrenado:"
   ]
  },
  {
   "cell_type": "code",
   "execution_count": 25,
   "metadata": {},
   "outputs": [
    {
     "name": "stdout",
     "output_type": "stream",
     "text": [
      "La palabra 'crime' apareció 96 veces en el corpus de entrenamiento.\n"
     ]
    }
   ],
   "source": [
    "print(f\"La palabra 'crime' apareció {model_doc2vec.wv.get_vecattr('crime', 'count')} veces en el corpus de entrenamiento.\")"
   ]
  },
  {
   "cell_type": "markdown",
   "metadata": {},
   "source": [
    "Le pasamos una serie de palabras y nos indica cual no es parte del conjunto"
   ]
  },
  {
   "cell_type": "code",
   "execution_count": 26,
   "metadata": {},
   "outputs": [
    {
     "data": {
      "text/plain": [
       "'crime'"
      ]
     },
     "execution_count": 26,
     "metadata": {},
     "output_type": "execute_result"
    }
   ],
   "source": [
    "model_doc2vec.wv.doesnt_match(\"trump crime help america\".split())"
   ]
  },
  {
   "cell_type": "markdown",
   "metadata": {},
   "source": [
    "También podemos pedirle que nos indique cuales son las palabras más similares a una indicada:"
   ]
  },
  {
   "cell_type": "code",
   "execution_count": 27,
   "metadata": {},
   "outputs": [
    {
     "data": {
      "text/plain": [
       "[('crimin', 0.6401203274726868),\n",
       " ('croat', 0.5844037532806396),\n",
       " ('feloni', 0.5310614109039307),\n",
       " ('act', 0.5029081106185913),\n",
       " ('convict', 0.49788305163383484),\n",
       " ('adult', 0.48467862606048584),\n",
       " ('philando', 0.4841691553592682),\n",
       " ('vietnames', 0.4662694036960602),\n",
       " ('castil', 0.46426376700401306),\n",
       " ('alien', 0.46144476532936096)]"
      ]
     },
     "execution_count": 27,
     "metadata": {},
     "output_type": "execute_result"
    }
   ],
   "source": [
    "model_doc2vec.wv.most_similar(\"crime\")"
   ]
  },
  {
   "cell_type": "markdown",
   "metadata": {},
   "source": [
    "# Modelo de Machine Learning:"
   ]
  },
  {
   "cell_type": "markdown",
   "metadata": {},
   "source": [
    "Vamos a buscar cual es la mejor modelo para clasificar las fake news:"
   ]
  },
  {
   "cell_type": "markdown",
   "metadata": {},
   "source": [
    "Para los diversos modelos evaluaremos las métricas de precisión, exactitud y exhaustividad. El área bajo la curva mediante ROC_AUC que da una idea de la precisión del modelo.\n",
    "\n",
    "Generamos una función que devuelve las mismas:\n"
   ]
  },
  {
   "cell_type": "code",
   "execution_count": 28,
   "metadata": {},
   "outputs": [],
   "source": [
    "def metricas_modelos(y_true, y_pred):\n",
    "    from sklearn.metrics import accuracy_score, auc, confusion_matrix, f1_score, precision_score, recall_score, roc_curve\n",
    "\n",
    "    # Obtención de matriz de confusión\n",
    "    confusion_matrix = confusion_matrix(y_true, y_pred)\n",
    "\n",
    "    print('La matriz de confusión es ')\n",
    "    print(confusion_matrix)\n",
    "\n",
    "    print('Precisión:', accuracy_score(y_true, y_pred))\n",
    "    print('Exactitud:', precision_score(y_true, y_pred))\n",
    "    print('Exhaustividad:', recall_score(y_true, y_pred))\n",
    "    print('F1:', f1_score(y_true, y_pred))\n",
    "\n",
    "    false_positive_rate, recall, thresholds = roc_curve(y_true, y_pred)\n",
    "    roc_auc = auc(false_positive_rate, recall)\n",
    "\n",
    "    print('AUC:', auc(false_positive_rate, recall))\n",
    "\n",
    "    plt.plot(false_positive_rate, recall, 'b')\n",
    "    plt.plot([0, 1], [0, 1], 'r--')\n",
    "    plt.title('AUC = %0.2f' % roc_auc)"
   ]
  },
  {
   "cell_type": "markdown",
   "metadata": {},
   "source": [
    "**Regresión logística:**"
   ]
  },
  {
   "cell_type": "markdown",
   "metadata": {},
   "source": [
    "Buscaremos ayudarnos para la selección de los hiperparámetros a traves del uso del algoritmo GridSearchCV:"
   ]
  },
  {
   "cell_type": "code",
   "execution_count": 29,
   "metadata": {},
   "outputs": [
    {
     "name": "stdout",
     "output_type": "stream",
     "text": [
      "El mejor parametro es {'C': 0.1, 'fit_intercept': True, 'solver': 'liblinear'}\n",
      "El mejor score es 0.8511707400668377\n"
     ]
    }
   ],
   "source": [
    "log_reg=LogisticRegression(random_state=42)\n",
    "log_reg_params={'solver':np.array(['newton-cg', 'lbfgs', 'liblinear', 'sag', 'saga']),#le pasamos todos los tipos\n",
    "               'fit_intercept':np.array([True,False]),#dando la opción de tome o no la constante.\n",
    "               'C':np.array([1,0.1,0.01])}#jugamos con posibles valores que harían más fuerte el ajuste.\n",
    "\n",
    "grid_log_reg = GridSearchCV(log_reg, \n",
    "                            log_reg_params,\n",
    "                            cv = 3,#probamos un crossover de 3\n",
    "                            return_train_score = True)#que devuelva el score del training.\n",
    "\n",
    "grid_log_reg.fit(X_test,y_test)\n",
    "\n",
    "# Los mejores parametros para el modelo\n",
    "print('El mejor parametro es', grid_log_reg.best_params_)\n",
    "print('El mejor score es', grid_log_reg.best_score_)"
   ]
  },
  {
   "cell_type": "markdown",
   "metadata": {},
   "source": [
    "Creamos el modelo de Regresión Logística según los mejores hiperparámetros:\n",
    "Luego entrenamos y predecimos para obtener las métricas."
   ]
  },
  {
   "cell_type": "code",
   "execution_count": 30,
   "metadata": {},
   "outputs": [
    {
     "name": "stdout",
     "output_type": "stream",
     "text": [
      "Las métricas para según los datos de test son:\n",
      "La matriz de confusión es \n",
      "[[3323 1021]\n",
      " [ 455 4769]]\n",
      "Precisión: 0.8457357859531772\n",
      "Exactitud: 0.8236614853195164\n",
      "Exhaustividad: 0.9129019908116386\n",
      "F1: 0.865988741601598\n",
      "AUC: 0.8389325791995578\n"
     ]
    },
    {
     "data": {
      "image/png": "[encoded data removed]",
      "text/plain": [
       "<Figure size 432x288 with 1 Axes>"
      ]
     },
     "metadata": {
      "image/png": {
       "height": 263,
       "width": 372
      },
      "needs_background": "light"
     },
     "output_type": "display_data"
    }
   ],
   "source": [
    "log_reg=LogisticRegression(solver=grid_log_reg.best_params_['solver'],\n",
    "                           fit_intercept=grid_log_reg.best_params_['fit_intercept'],\n",
    "                           C=grid_log_reg.best_params_['C'],\n",
    "                           random_state=42)\n",
    "log_reg.fit(X_train,y_train)\n",
    "\n",
    "y_pred_log_reg=log_reg.predict(X_test)\n",
    "\n",
    "print(\"Las métricas para según los datos de test son:\")\n",
    "metricas_modelos(y_test,y_pred_log_reg)"
   ]
  },
  {
   "cell_type": "markdown",
   "metadata": {},
   "source": [
    "**Árboles de decisión:**"
   ]
  },
  {
   "cell_type": "code",
   "execution_count": 31,
   "metadata": {},
   "outputs": [
    {
     "name": "stdout",
     "output_type": "stream",
     "text": [
      "El mejor parametro es {'criterion': 'gini', 'max_depth': 4}\n",
      "El mejor score es 0.7540765293968654\n"
     ]
    }
   ],
   "source": [
    "dt_classifier=DecisionTreeClassifier(random_state=42)\n",
    "dt_classifier_params={'criterion':np.array(['gini', 'entropy']), #Que elija el criterio de selección\n",
    "               'max_depth':np.array([2,3,4])}#Limitamos la profundidad del arbol.\n",
    "            \n",
    "grid_dt_classifier = GridSearchCV(dt_classifier, \n",
    "                            dt_classifier_params,\n",
    "                            cv = 3,#probamos un crossover de 3\n",
    "                            return_train_score = True)#que devuelva el score del training.\n",
    "\n",
    "grid_dt_classifier.fit(X_test,y_test)\n",
    "\n",
    "# Los mejores parametros para el modelo\n",
    "print('El mejor parametro es', grid_dt_classifier.best_params_)\n",
    "print('El mejor score es', grid_dt_classifier.best_score_)"
   ]
  },
  {
   "cell_type": "code",
   "execution_count": 32,
   "metadata": {},
   "outputs": [
    {
     "name": "stdout",
     "output_type": "stream",
     "text": [
      "Las métricas para según los datos de test son:\n",
      "La matriz de confusión es \n",
      "[[2579 1765]\n",
      " [ 568 4656]]\n",
      "Precisión: 0.7561663879598662\n",
      "Exactitud: 0.7251206977106369\n",
      "Exhaustividad: 0.891271056661562\n",
      "F1: 0.7996565049377414\n",
      "AUC: 0.7424817530084974\n"
     ]
    },
    {
     "data": {
      "image/png": "[encoded data removed]",
      "text/plain": [
       "<Figure size 432x288 with 1 Axes>"
      ]
     },
     "metadata": {
      "image/png": {
       "height": 263,
       "width": 372
      },
      "needs_background": "light"
     },
     "output_type": "display_data"
    }
   ],
   "source": [
    "dt_classifier=DecisionTreeClassifier(criterion=grid_dt_classifier.best_params_['criterion'],\n",
    "                                     max_depth=grid_dt_classifier.best_params_['max_depth'],\n",
    "                                     random_state=42)\n",
    "dt_classifier.fit(X_train,y_train)\n",
    "\n",
    "y_pred_dt_classifier=dt_classifier.predict(X_test)\n",
    "\n",
    "print(\"Las métricas para según los datos de test son:\")\n",
    "metricas_modelos(y_test,y_pred_dt_classifier)"
   ]
  },
  {
   "cell_type": "markdown",
   "metadata": {},
   "source": [
    "**Random Forest**"
   ]
  },
  {
   "cell_type": "code",
   "execution_count": 33,
   "metadata": {},
   "outputs": [
    {
     "name": "stdout",
     "output_type": "stream",
     "text": [
      "El mejor parametro es {'criterion': 'entropy', 'max_depth': 4, 'n_estimators': 10}\n",
      "El mejor score es 0.8005845918227922\n"
     ]
    }
   ],
   "source": [
    "forest=RandomForestClassifier(random_state=42)\n",
    "forest_params={'criterion':np.array(['gini', 'entropy']), #Que elija el criterio de selección\n",
    "               'max_depth':np.array([2,3,4]),#Limitamos la profundidad del arbol para evitar sobre ajuste\n",
    "                'n_estimators':np.array([5,7,10])}#Forzamos la creación de varios arboles con el parámetro n_estimators\n",
    "            \n",
    "grid_forest = GridSearchCV(forest, \n",
    "                            forest_params,\n",
    "                            cv = 3,#probamos un crossover de 3\n",
    "                            return_train_score = True)#que devuelva el score del training.\n",
    "\n",
    "grid_forest.fit(X_test,y_test)\n",
    "\n",
    "# Los mejores parametros para el modelo\n",
    "print('El mejor parametro es', grid_forest.best_params_)\n",
    "print('El mejor score es', grid_forest.best_score_)"
   ]
  },
  {
   "cell_type": "code",
   "execution_count": 34,
   "metadata": {},
   "outputs": [
    {
     "name": "stdout",
     "output_type": "stream",
     "text": [
      "Las métricas para según los datos de test son:\n",
      "La matriz de confusión es \n",
      "[[2767 1577]\n",
      " [ 360 4864]]\n",
      "Precisión: 0.7975543478260869\n",
      "Exactitud: 0.7551622418879056\n",
      "Exhaustividad: 0.9310872894333844\n",
      "F1: 0.8339477068152593\n",
      "AUC: 0.784028911751683\n"
     ]
    },
    {
     "data": {
      "image/png": "[encoded data removed]",
      "text/plain": [
       "<Figure size 432x288 with 1 Axes>"
      ]
     },
     "metadata": {
      "image/png": {
       "height": 263,
       "width": 372
      },
      "needs_background": "light"
     },
     "output_type": "display_data"
    }
   ],
   "source": [
    "forest=RandomForestClassifier(criterion=grid_forest.best_params_['criterion'],\n",
    "                              max_depth=grid_forest.best_params_['max_depth'],\n",
    "                              n_estimators=grid_forest.best_params_['n_estimators'],\n",
    "                              random_state=42)\n",
    "forest.fit(X_train,y_train)\n",
    "\n",
    "y_pred_forest=forest.predict(X_test)\n",
    "\n",
    "print(\"Las métricas para según los datos de test son:\")\n",
    "metricas_modelos(y_test,y_pred_forest)"
   ]
  },
  {
   "cell_type": "markdown",
   "metadata": {},
   "source": [
    "**Support Vector Machine o SMV** \n",
    "Las máquinas de vector soporte (SVM, Support Vector Machines) son algoritmos de aprendizaje supervisado que se pueden utilizar tanto para resolver problemas de clasificación como de regresión. Las SVM dibujan un hiperplano entre dos grupos de datos de forma que se maximice el margen entre los conjuntos de puntos.\n",
    "**Ojo: la línea de código que sigue demora bastante en finalizar la ejecución**"
   ]
  },
  {
   "cell_type": "code",
   "execution_count": 35,
   "metadata": {},
   "outputs": [
    {
     "name": "stdout",
     "output_type": "stream",
     "text": [
      "El mejor parametro es {'degree': 2, 'gamma': 0.1, 'kernel': 'rbf'}\n",
      "El mejor score es 0.8765677257525084\n"
     ]
    }
   ],
   "source": [
    "clf=SVC(random_state=42)\n",
    "clf_params={'kernel':np.array(['poly', 'rbf', 'sigmoid']), #Que elija el núcleo de selección\n",
    "               'gamma':np.array([0.1,0.5]),\n",
    "                'degree':np.array([2,3])}#damos a elección los grados\n",
    "            \n",
    "grid_clf = GridSearchCV(clf, \n",
    "                            clf_params,\n",
    "                            cv = 2,#probamos un crossover de 2 para bajar el tiempo de procesamiento\n",
    "                            return_train_score = True)#que devuelva el score del training.\n",
    "\n",
    "grid_clf.fit(X_test,y_test)\n",
    "\n",
    "# Los mejores parametros para el modelo\n",
    "print('El mejor parametro es', grid_clf.best_params_)\n",
    "print('El mejor score es', grid_clf.best_score_)"
   ]
  },
  {
   "cell_type": "code",
   "execution_count": 36,
   "metadata": {},
   "outputs": [
    {
     "name": "stdout",
     "output_type": "stream",
     "text": [
      "Las métricas para según los datos de test son:\n",
      "La matriz de confusión es \n",
      "[[3826  518]\n",
      " [ 761 4463]]\n",
      "Precisión: 0.8663252508361204\n",
      "Exactitud: 0.8960048183095763\n",
      "Exhaustividad: 0.8543261868300153\n",
      "F1: 0.8746692797648211\n",
      "AUC: 0.8675406256433686\n"
     ]
    },
    {
     "data": {
      "image/png": "[encoded data removed]",
      "text/plain": [
       "<Figure size 432x288 with 1 Axes>"
      ]
     },
     "metadata": {
      "image/png": {
       "height": 263,
       "width": 372
      },
      "needs_background": "light"
     },
     "output_type": "display_data"
    }
   ],
   "source": [
    "clf=SVC(kernel=grid_clf.best_params_['kernel'],\n",
    "        degree=grid_clf.best_params_['degree'],\n",
    "        gamma=grid_clf.best_params_['gamma'],\n",
    "        random_state=42)\n",
    "clf.fit(X_train,y_train)\n",
    "\n",
    "y_pred_clf=clf.predict(X_test)\n",
    "\n",
    "print(\"Las métricas para según los datos de test son:\")\n",
    "metricas_modelos(y_test,y_pred_clf)"
   ]
  },
  {
   "cell_type": "markdown",
   "metadata": {},
   "source": [
    "**Vecinos más Cercanos:**\n",
    "Usaremos el KneighborsClassifier"
   ]
  },
  {
   "cell_type": "code",
   "execution_count": 37,
   "metadata": {},
   "outputs": [
    {
     "name": "stdout",
     "output_type": "stream",
     "text": [
      "El mejor parametro es {'n_neighbors': 4}\n",
      "El mejor score es 0.7449828351310819\n"
     ]
    }
   ],
   "source": [
    "kn_classifier=KNeighborsClassifier()\n",
    "kn_classifier_params={'n_neighbors':np.array([2,3,4,5])} #Variamos los posibles vecinos\n",
    "\n",
    "grid_kn_classifier = GridSearchCV(kn_classifier, \n",
    "                            kn_classifier_params,\n",
    "                            cv = 3,#probamos un crossover de 3\n",
    "                            return_train_score = True)#que devuelva el score del training.\n",
    "\n",
    "grid_kn_classifier.fit(X_test,y_test)\n",
    "\n",
    "# Los mejores parametros para el modelo\n",
    "print('El mejor parametro es', grid_kn_classifier.best_params_)\n",
    "print('El mejor score es', grid_kn_classifier.best_score_)"
   ]
  },
  {
   "cell_type": "code",
   "execution_count": 38,
   "metadata": {},
   "outputs": [
    {
     "name": "stdout",
     "output_type": "stream",
     "text": [
      "Las métricas para según los datos de test son:\n",
      "La matriz de confusión es \n",
      "[[3009 1335]\n",
      " [ 675 4549]]\n",
      "Precisión: 0.7899247491638796\n",
      "Exactitud: 0.7731135282121007\n",
      "Exhaustividad: 0.8707886676875957\n",
      "F1: 0.8190493338134678\n",
      "AUC: 0.7817341128493226\n"
     ]
    },
    {
     "data": {
      "image/png": "[encoded data removed]",
      "text/plain": [
       "<Figure size 432x288 with 1 Axes>"
      ]
     },
     "metadata": {
      "image/png": {
       "height": 263,
       "width": 372
      },
      "needs_background": "light"
     },
     "output_type": "display_data"
    }
   ],
   "source": [
    "kn_classifier=KNeighborsClassifier(n_neighbors=grid_kn_classifier.best_params_['n_neighbors'])\n",
    "kn_classifier.fit(X_train,y_train)\n",
    "\n",
    "y_pred_kn_classifier=kn_classifier.predict(X_test)\n",
    "\n",
    "print(\"Las métricas para según los datos de test son:\")\n",
    "metricas_modelos(y_test,y_pred_kn_classifier)"
   ]
  },
  {
   "cell_type": "markdown",
   "metadata": {},
   "source": [
    "## Conclusiones:\n",
    "\n",
    "Vemos que el mejor algoritmo de clasificación que se ajusta a este set de datos transformados es el de Máquina de vector soporte con los parámetros:"
   ]
  },
  {
   "cell_type": "code",
   "execution_count": 39,
   "metadata": {},
   "outputs": [
    {
     "name": "stdout",
     "output_type": "stream",
     "text": [
      "{'degree': 2, 'gamma': 0.1, 'kernel': 'rbf'}\n"
     ]
    }
   ],
   "source": [
    "print(grid_clf.best_params_)"
   ]
  },
  {
   "cell_type": "markdown",
   "metadata": {},
   "source": [
    "El siguiente con mejor puntaje sería el de regresión logística con los parámetros:"
   ]
  },
  {
   "cell_type": "code",
   "execution_count": 40,
   "metadata": {},
   "outputs": [
    {
     "name": "stdout",
     "output_type": "stream",
     "text": [
      "El mejor parametro es {'C': 0.1, 'fit_intercept': True, 'solver': 'liblinear'}\n"
     ]
    }
   ],
   "source": [
    "print('El mejor parametro es', grid_log_reg.best_params_)"
   ]
  },
  {
   "cell_type": "markdown",
   "metadata": {},
   "source": [
    "Por último, podemos elegir al azar una noticia del set de datos de test, visualizamos su titular toquenizado y mostramos la predicción ya calculada anteriormente:"
   ]
  },
  {
   "cell_type": "code",
   "execution_count": 41,
   "metadata": {},
   "outputs": [
    {
     "name": "stdout",
     "output_type": "stream",
     "text": [
      "La noticia es:\n",
      " TaggedDocument(['two', 'dead', 'sever', 'wound', 'stab', 'southern', 'dutch', 'citi', 'maastricht', 'polic'], true)\n",
      "\n",
      "El mejor algoritmo de clasificación predijo que esta noticia es verdadera\n"
     ]
    }
   ],
   "source": [
    "noticia=random.randint(0,len(documents_test))\n",
    "\n",
    "print(\"La noticia es:\\n\",documents_test[noticia])\n",
    "\n",
    "if y_pred_clf[noticia]:\n",
    "    print(\"\\nEl mejor algoritmo de clasificación predijo que esta noticia es verdadera\")\n",
    "else:\n",
    "    print(\"\\nEl mejor algoritmo de clasificación predijo que esta noticia es falsa\")"
   ]
  }
 ],
 "metadata": {
  "kernelspec": {
   "display_name": "Python 3",
   "language": "python",
   "name": "python3"
  },
  "language_info": {
   "codemirror_mode": {
    "name": "ipython",
    "version": 3
   },
   "file_extension": ".py",
   "mimetype": "text/x-python",
   "name": "python",
   "nbconvert_exporter": "python",
   "pygments_lexer": "ipython3",
   "version": "3.8.8"
  }
 },
 "nbformat": 4,
 "nbformat_minor": 2
}
